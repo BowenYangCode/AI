{
 "cells": [
  {
   "cell_type": "code",
   "execution_count": 7,
   "id": "0fde3f0e",
   "metadata": {},
   "outputs": [
    {
     "name": "stderr",
     "output_type": "stream",
     "text": [
      "Ultralytics YOLOv8.0.209  Python-3.11.5 torch-2.1.0+cpu CPU (Intel Core(TM) i5-2400 3.10GHz)\n",
      "YOLOv8n-pose summary (fused): 187 layers, 3077975 parameters, 0 gradients, 8.3 GFLOPs\n",
      "\n",
      "image 1/1 C:\\Users\\bib-ya\\AppData\\Local\\anaconda3\\Lib\\site-packages\\ultralytics\\cfg\\datasets\\454.png: 480x640 1 weldingpool, 578.3ms\n",
      "Speed: 28.2ms preprocess, 578.3ms inference, 21.1ms postprocess per image at shape (1, 3, 480, 640)\n",
      "Results saved to \u001b[1mruns\\pose\\predict4\u001b[0m\n",
      "1 label saved to runs\\pose\\predict4\\labels\n",
      " Learn more at https://docs.ultralytics.com/modes/predict\n"
     ]
    }
   ],
   "source": [
    "!yolo pose predict model=\"J:\\AI based welding detection in Gas metal arc welding\\weldingpoolposition\\n_scratch\\weights\\best.pt\" source=\"C:\\Users\\bib-ya\\AppData\\Local\\anaconda3\\Lib\\site-packages\\ultralytics\\cfg\\datasets\\454.png\" device=cpu save_txt "
   ]
  },
  {
   "cell_type": "code",
   "execution_count": null,
   "id": "e59001f8",
   "metadata": {},
   "outputs": [],
   "source": []
  },
  {
   "cell_type": "code",
   "execution_count": 20,
   "id": "32192d44",
   "metadata": {
    "scrolled": true
   },
   "outputs": [
    {
     "name": "stderr",
     "output_type": "stream",
     "text": [
      "Ultralytics YOLOv8.0.209  Python-3.11.5 torch-2.1.0+cpu CPU (Intel Core(TM) i5-2400 3.10GHz)\n",
      "YOLOv8n-pose summary (fused): 187 layers, 3077975 parameters, 0 gradients, 8.3 GFLOPs\n",
      "\n",
      "image 1/1 C:\\Users\\bib-ya\\AppData\\Local\\anaconda3\\Lib\\site-packages\\ultralytics\\cfg\\datasets\\88.png: 480x640 1 weldingpool, 213.1ms\n",
      "Speed: 7.0ms preprocess, 213.1ms inference, 0.0ms postprocess per image at shape (1, 3, 480, 640)\n",
      "Results saved to \u001b[1mruns\\pose\\predict18\u001b[0m\n",
      "1 label saved to runs\\pose\\predict18\\labels\n",
      " Learn more at https://docs.ultralytics.com/modes/predict\n"
     ]
    }
   ],
   "source": [
    "!yolo pose predict model=\"J:\\AI based welding detection in Gas metal arc welding\\weldingpoolposition\\n_scratch\\weights\\best.pt\" source=\"C:\\Users\\bib-ya\\AppData\\Local\\anaconda3\\Lib\\site-packages\\ultralytics\\cfg\\datasets\\88.png\" device=cpu save_txt "
   ]
  },
  {
   "cell_type": "code",
   "execution_count": 4,
   "id": "9c58a1da",
   "metadata": {},
   "outputs": [
    {
     "name": "stderr",
     "output_type": "stream",
     "text": [
      "Ultralytics YOLOv8.0.209  Python-3.11.5 torch-2.1.0+cpu CPU (Intel Core(TM) i5-2400 3.10GHz)\n",
      "Loading J:\\AI based welding detection in Gas metal arc welding\\weldingpoolposition\\n_scratch\\weights\\best.onnx for ONNX Runtime inference...\n",
      "\n",
      "image 1/1 C:\\Users\\bib-ya\\AppData\\Local\\anaconda3\\Lib\\site-packages\\ultralytics\\cfg\\datasets\\88.png: 640x640 1 weldingpool, 227.6ms\n",
      "Speed: 10.0ms preprocess, 227.6ms inference, 10.5ms postprocess per image at shape (1, 3, 640, 640)\n",
      "Results saved to \u001b[1mruns\\pose\\predict20\u001b[0m\n",
      " Learn more at https://docs.ultralytics.com/modes/predict\n"
     ]
    }
   ],
   "source": [
    "!yolo predict pose model=\"J:\\AI based welding detection in Gas metal arc welding\\weldingpoolposition\\n_scratch\\weights\\best.onnx\" source=\"C:\\Users\\bib-ya\\AppData\\Local\\anaconda3\\Lib\\site-packages\\ultralytics\\cfg\\datasets\\88.png\""
   ]
  },
  {
   "cell_type": "code",
   "execution_count": 6,
   "id": "58235faa",
   "metadata": {},
   "outputs": [
    {
     "name": "stderr",
     "output_type": "stream",
     "text": [
      "Ultralytics YOLOv8.0.209  Python-3.11.5 torch-2.1.0+cpu CPU (Intel Core(TM) i5-2400 3.10GHz)\n",
      "Loading J:\\AI based welding detection in Gas metal arc welding\\weldingpoolposition\\n_scratch\\weights\\best.onnx for ONNX Runtime inference...\n",
      "\n",
      "image 1/1 C:\\Users\\bib-ya\\AppData\\Local\\anaconda3\\Lib\\site-packages\\ultralytics\\cfg\\datasets\\457.png: 640x640 1 weldingpool, 104.9ms\n",
      "Speed: 0.0ms preprocess, 104.9ms inference, 23.1ms postprocess per image at shape (1, 3, 640, 640)\n",
      "Results saved to \u001b[1mruns\\pose\\predict22\u001b[0m\n",
      " Learn more at https://docs.ultralytics.com/modes/predict\n"
     ]
    }
   ],
   "source": [
    "!yolo predict pose model=\"J:\\AI based welding detection in Gas metal arc welding\\weldingpoolposition\\n_scratch\\weights\\best.onnx\" source=\"C:\\Users\\bib-ya\\AppData\\Local\\anaconda3\\Lib\\site-packages\\ultralytics\\cfg\\datasets\\457.png\""
   ]
  },
  {
   "cell_type": "code",
   "execution_count": 7,
   "id": "34684de9",
   "metadata": {},
   "outputs": [
    {
     "name": "stderr",
     "output_type": "stream",
     "text": [
      "Ultralytics YOLOv8.0.209  Python-3.11.5 torch-2.1.0+cpu CPU (Intel Core(TM) i5-2400 3.10GHz)\n",
      "YOLOv8n-pose summary (fused): 187 layers, 3077975 parameters, 0 gradients, 8.3 GFLOPs\n",
      "\n",
      "image 1/1 C:\\Users\\bib-ya\\AppData\\Local\\anaconda3\\Lib\\site-packages\\ultralytics\\cfg\\datasets\\457.png: 480x640 1 weldingpool, 203.5ms\n",
      "Speed: 2.0ms preprocess, 203.5ms inference, 0.0ms postprocess per image at shape (1, 3, 480, 640)\n",
      "Results saved to \u001b[1mruns\\pose\\predict23\u001b[0m\n",
      " Learn more at https://docs.ultralytics.com/modes/predict\n"
     ]
    }
   ],
   "source": [
    "!yolo pose predict model=\"J:\\AI based welding detection in Gas metal arc welding\\weldingpoolposition\\n_scratch\\weights\\best.pt\" source=\"C:\\Users\\bib-ya\\AppData\\Local\\anaconda3\\Lib\\site-packages\\ultralytics\\cfg\\datasets\\457.png\""
   ]
  },
  {
   "cell_type": "code",
   "execution_count": 8,
   "id": "b0f81400",
   "metadata": {},
   "outputs": [
    {
     "name": "stderr",
     "output_type": "stream",
     "text": [
      "Ultralytics YOLOv8.0.209  Python-3.11.5 torch-2.1.0+cpu CPU (Intel Core(TM) i5-2400 3.10GHz)\n",
      "YOLOv8n-pose summary (fused): 187 layers, 3077975 parameters, 0 gradients, 8.3 GFLOPs\n",
      "\n",
      "image 1/1 C:\\Users\\bib-ya\\AppData\\Local\\anaconda3\\Lib\\site-packages\\ultralytics\\cfg\\datasets\\497.png: 480x640 1 weldingpool, 241.6ms\n",
      "Speed: 5.5ms preprocess, 241.6ms inference, 0.0ms postprocess per image at shape (1, 3, 480, 640)\n",
      "Results saved to \u001b[1mruns\\pose\\predict24\u001b[0m\n",
      " Learn more at https://docs.ultralytics.com/modes/predict\n"
     ]
    }
   ],
   "source": [
    "!yolo pose predict model=\"J:\\AI based welding detection in Gas metal arc welding\\weldingpoolposition\\n_scratch\\weights\\best.pt\" source=\"C:\\Users\\bib-ya\\AppData\\Local\\anaconda3\\Lib\\site-packages\\ultralytics\\cfg\\datasets\\497.png\""
   ]
  },
  {
   "cell_type": "code",
   "execution_count": 9,
   "id": "295b5801",
   "metadata": {},
   "outputs": [
    {
     "name": "stderr",
     "output_type": "stream",
     "text": [
      "Ultralytics YOLOv8.0.209  Python-3.11.5 torch-2.1.0+cpu CPU (Intel Core(TM) i5-2400 3.10GHz)\n",
      "Loading J:\\AI based welding detection in Gas metal arc welding\\weldingpoolposition\\n_scratch\\weights\\best.onnx for ONNX Runtime inference...\n",
      "\n",
      "image 1/1 C:\\Users\\bib-ya\\AppData\\Local\\anaconda3\\Lib\\site-packages\\ultralytics\\cfg\\datasets\\497.png: 640x640 1 weldingpool, 292.3ms\n",
      "Speed: 10.1ms preprocess, 292.3ms inference, 20.1ms postprocess per image at shape (1, 3, 640, 640)\n",
      "Results saved to \u001b[1mruns\\pose\\predict25\u001b[0m\n",
      " Learn more at https://docs.ultralytics.com/modes/predict\n"
     ]
    }
   ],
   "source": [
    "!yolo predict pose model=\"J:\\AI based welding detection in Gas metal arc welding\\weldingpoolposition\\n_scratch\\weights\\best.onnx\" source=\"C:\\Users\\bib-ya\\AppData\\Local\\anaconda3\\Lib\\site-packages\\ultralytics\\cfg\\datasets\\497.png\""
   ]
  },
  {
   "cell_type": "code",
   "execution_count": 15,
   "id": "72a26804",
   "metadata": {},
   "outputs": [
    {
     "name": "stderr",
     "output_type": "stream",
     "text": [
      "Ultralytics YOLOv8.0.209  Python-3.11.5 torch-2.1.0+cpu CPU (Intel Core(TM) i5-2400 3.10GHz)\n",
      "YOLOv8n-pose summary (fused): 187 layers, 3077975 parameters, 0 gradients, 8.3 GFLOPs\n",
      "\n",
      "image 1/1 C:\\Users\\bib-ya\\AppData\\Local\\anaconda3\\Lib\\site-packages\\ultralytics\\cfg\\datasets\\11.png: 480x640 1 weldingpool, 200.3ms\n",
      "Speed: 10.6ms preprocess, 200.3ms inference, 8.0ms postprocess per image at shape (1, 3, 480, 640)\n",
      "Results saved to \u001b[1mruns\\pose\\predict31\u001b[0m\n",
      " Learn more at https://docs.ultralytics.com/modes/predict\n"
     ]
    }
   ],
   "source": [
    "!yolo pose predict model=\"J:\\AI based welding detection in Gas metal arc welding\\weldingpoolposition\\n_scratch\\weights\\best.pt\" source=\"C:\\Users\\bib-ya\\AppData\\Local\\anaconda3\\Lib\\site-packages\\ultralytics\\cfg\\datasets\\11.png\""
   ]
  },
  {
   "cell_type": "code",
   "execution_count": 14,
   "id": "0b6e886b",
   "metadata": {
    "scrolled": false
   },
   "outputs": [
    {
     "name": "stderr",
     "output_type": "stream",
     "text": [
      "Ultralytics YOLOv8.0.209  Python-3.11.5 torch-2.1.0+cpu CPU (Intel Core(TM) i5-2400 3.10GHz)\n",
      "Loading J:\\AI based welding detection in Gas metal arc welding\\weldingpoolposition\\n_scratch\\weights\\best-sim.onnx for ONNX Runtime inference...\n",
      "\n",
      "image 1/1 C:\\Users\\bib-ya\\AppData\\Local\\anaconda3\\Lib\\site-packages\\ultralytics\\cfg\\datasets\\11.png: 640x640 1 weldingpool, 191.9ms\n",
      "Speed: 10.1ms preprocess, 191.9ms inference, 7.0ms postprocess per image at shape (1, 3, 640, 640)\n",
      "Results saved to \u001b[1mruns\\pose\\predict30\u001b[0m\n",
      " Learn more at https://docs.ultralytics.com/modes/predict\n"
     ]
    }
   ],
   "source": [
    "!yolo pose predict model=\"J:\\AI based welding detection in Gas metal arc welding\\weldingpoolposition\\n_scratch\\weights\\best-sim.onnx\" source=\"C:\\Users\\bib-ya\\AppData\\Local\\anaconda3\\Lib\\site-packages\\ultralytics\\cfg\\datasets\\11.png\""
   ]
  },
  {
   "cell_type": "code",
   "execution_count": 1,
   "id": "eb58825f",
   "metadata": {},
   "outputs": [
    {
     "name": "stderr",
     "output_type": "stream",
     "text": [
      "Ultralytics YOLOv8.0.209  Python-3.11.5 torch-2.1.0+cpu CPU (Intel Core(TM) i5-2400 3.10GHz)\n",
      "Loading J:\\AI based image processing for the detection of process features in Gas Metal Arc Welding\\Weldingpool_keypoints\\n_model7\\weights\\best.onnx for ONNX Runtime inference...\n",
      "\n",
      "image 1/1 C:\\Users\\bib-ya\\AppData\\Local\\anaconda3\\Lib\\site-packages\\ultralytics\\cfg\\datasets\\24.png: 640x640 1 weldingpool, 268.5ms\n",
      "Speed: 10.1ms preprocess, 268.5ms inference, 20.1ms postprocess per image at shape (1, 3, 640, 640)\n",
      "Results saved to \u001b[1mruns\\pose\\predict32\u001b[0m\n",
      " Learn more at https://docs.ultralytics.com/modes/predict\n"
     ]
    }
   ],
   "source": [
    "!yolo pose predict model=\"J:\\AI based image processing for the detection of process features in Gas Metal Arc Welding\\Weldingpool_keypoints\\n_model7\\weights\\best.onnx\" source=\"C:\\Users\\bib-ya\\AppData\\Local\\anaconda3\\Lib\\site-packages\\ultralytics\\cfg\\datasets\\24.png\""
   ]
  },
  {
   "cell_type": "code",
   "execution_count": 7,
   "id": "70f16ec1",
   "metadata": {
    "scrolled": true
   },
   "outputs": [
    {
     "name": "stderr",
     "output_type": "stream",
     "text": [
      "Ultralytics YOLOv8.0.209  Python-3.11.5 torch-2.1.0+cpu CPU (Intel Core(TM) i5-2400 3.10GHz)\n",
      "Loading J:\\AI based image processing for the detection of process features in Gas Metal Arc Welding\\Weldingpool_keypoints\\n_model7\\weights\\best.onnx for ONNX Runtime inference...\n",
      "\n",
      "Traceback (most recent call last):\n",
      "  File \"<frozen runpy>\", line 198, in _run_module_as_main\n",
      "  File \"<frozen runpy>\", line 88, in _run_code\n",
      "  File \"C:\\Users\\bib-ya\\AppData\\Local\\anaconda3\\Scripts\\yolo.exe\\__main__.py\", line 7, in <module>\n",
      "  File \"C:\\Users\\bib-ya\\AppData\\Local\\anaconda3\\Lib\\site-packages\\ultralytics\\cfg\\__init__.py\", line 445, in entrypoint\n",
      "    getattr(model, mode)(**overrides)  # default args from model\n",
      "    ^^^^^^^^^^^^^^^^^^^^^^^^^^^^^^^^^\n",
      "  File \"C:\\Users\\bib-ya\\AppData\\Local\\anaconda3\\Lib\\site-packages\\ultralytics\\engine\\model.py\", line 239, in predict\n",
      "    return self.predictor.predict_cli(source=source) if is_cli else self.predictor(source=source, stream=stream)\n",
      "           ^^^^^^^^^^^^^^^^^^^^^^^^^^^^^^^^^^^^^^^^^\n",
      "  File \"C:\\Users\\bib-ya\\AppData\\Local\\anaconda3\\Lib\\site-packages\\ultralytics\\engine\\predictor.py\", line 207, in predict_cli\n",
      "    for _ in gen:  # running CLI inference without accumulating any outputs (do not modify)\n",
      "  File \"C:\\Users\\bib-ya\\AppData\\Local\\anaconda3\\Lib\\site-packages\\torch\\utils\\_contextlib.py\", line 35, in generator_context\n",
      "    response = gen.send(None)\n",
      "               ^^^^^^^^^^^^^^\n",
      "  File \"C:\\Users\\bib-ya\\AppData\\Local\\anaconda3\\Lib\\site-packages\\ultralytics\\engine\\predictor.py\", line 238, in stream_inference\n",
      "    self.setup_source(source if source is not None else self.args.source)\n",
      "  File \"C:\\Users\\bib-ya\\AppData\\Local\\anaconda3\\Lib\\site-packages\\ultralytics\\engine\\predictor.py\", line 215, in setup_source\n",
      "    self.dataset = load_inference_source(source=source,\n",
      "                   ^^^^^^^^^^^^^^^^^^^^^^^^^^^^^^^^^^^^\n",
      "  File \"C:\\Users\\bib-ya\\AppData\\Local\\anaconda3\\Lib\\site-packages\\ultralytics\\data\\build.py\", line 172, in load_inference_source\n",
      "    dataset = LoadImages(source, imgsz=imgsz, vid_stride=vid_stride)\n",
      "              ^^^^^^^^^^^^^^^^^^^^^^^^^^^^^^^^^^^^^^^^^^^^^^^^^^^^^^\n",
      "  File \"C:\\Users\\bib-ya\\AppData\\Local\\anaconda3\\Lib\\site-packages\\ultralytics\\data\\loaders.py\", line 287, in __init__\n",
      "    raise FileNotFoundError(f'{p} does not exist')\n",
      "FileNotFoundError: rJ:\\weld pool images_bib\\Versuchsreihe2_Versuch_30\\19.png does not exist\n"
     ]
    }
   ],
   "source": [
    "!yolo pose predict model=\"J:\\AI based image processing for the detection of process features in Gas Metal Arc Welding\\Weldingpool_keypoints\\n_model7\\weights\\best.onnx\" source=\"J:\\weld pool images_bib\\Versuchsreihe2_Versuch_30\\19.png\""
   ]
  },
  {
   "cell_type": "code",
   "execution_count": 9,
   "id": "a3354bf6",
   "metadata": {},
   "outputs": [
    {
     "name": "stderr",
     "output_type": "stream",
     "text": [
      "Ultralytics YOLOv8.0.209  Python-3.11.5 torch-2.1.0+cpu CPU (Intel Core(TM) i5-2400 3.10GHz)\n",
      "Loading J:\\AI based image processing for the detection of process features in Gas Metal Arc Welding\\Weldingpool_keypoints\\n_model7\\weights\\best.onnx for ONNX Runtime inference...\n",
      "\n",
      "image 1/1 C:\\Users\\bib-ya\\AppData\\Local\\anaconda3\\Lib\\site-packages\\ultralytics\\cfg\\datasets\\20.png: 640x640 1 weldingpool, 161.7ms\n",
      "Speed: 10.1ms preprocess, 161.7ms inference, 0.0ms postprocess per image at shape (1, 3, 640, 640)\n",
      "Results saved to \u001b[1mruns\\pose\\predict39\u001b[0m\n",
      " Learn more at https://docs.ultralytics.com/modes/predict\n"
     ]
    }
   ],
   "source": [
    "!yolo pose predict model=\"J:\\AI based image processing for the detection of process features in Gas Metal Arc Welding\\Weldingpool_keypoints\\n_model7\\weights\\best.onnx\" source=\"C:\\Users\\bib-ya\\AppData\\Local\\anaconda3\\Lib\\site-packages\\ultralytics\\cfg\\datasets\\20.png\""
   ]
  },
  {
   "cell_type": "code",
   "execution_count": null,
   "id": "0f94d4c8",
   "metadata": {},
   "outputs": [],
   "source": []
  }
 ],
 "metadata": {
  "kernelspec": {
   "display_name": "Python 3 (ipykernel)",
   "language": "python",
   "name": "python3"
  },
  "language_info": {
   "codemirror_mode": {
    "name": "ipython",
    "version": 3
   },
   "file_extension": ".py",
   "mimetype": "text/x-python",
   "name": "python",
   "nbconvert_exporter": "python",
   "pygments_lexer": "ipython3",
   "version": "3.11.5"
  }
 },
 "nbformat": 4,
 "nbformat_minor": 5
}
