{
 "cells": [
  {
   "cell_type": "code",
   "execution_count": 1,
   "id": "1c7ea31d",
   "metadata": {},
   "outputs": [],
   "source": [
    "import os\n",
    "import json\n",
    "import numpy as np"
   ]
  },
  {
   "cell_type": "code",
   "execution_count": 28,
   "id": "9249d7f8",
   "metadata": {},
   "outputs": [],
   "source": [
    "with open(r'J:\\AI based welding detection in Gas metal arc welding\\weldingpool data\\15.json', 'r', encoding='utf-8') as f:\n",
    "    labelme = json.load(f)"
   ]
  },
  {
   "cell_type": "code",
   "execution_count": 4,
   "id": "c9967761",
   "metadata": {},
   "outputs": [
    {
     "data": {
      "text/plain": [
       "dict_keys(['version', 'flags', 'shapes', 'imagePath', 'imageData', 'imageHeight', 'imageWidth'])"
      ]
     },
     "execution_count": 4,
     "metadata": {},
     "output_type": "execute_result"
    }
   ],
   "source": [
    "labelme.keys()"
   ]
  },
  {
   "cell_type": "code",
   "execution_count": 5,
   "id": "42405b2b",
   "metadata": {},
   "outputs": [
    {
     "data": {
      "text/plain": [
       "'5.3.1'"
      ]
     },
     "execution_count": 5,
     "metadata": {},
     "output_type": "execute_result"
    }
   ],
   "source": [
    "labelme['version']"
   ]
  },
  {
   "cell_type": "code",
   "execution_count": 6,
   "id": "e07cea0c",
   "metadata": {},
   "outputs": [
    {
     "data": {
      "text/plain": [
       "{}"
      ]
     },
     "execution_count": 6,
     "metadata": {},
     "output_type": "execute_result"
    }
   ],
   "source": [
    "labelme['flags']"
   ]
  },
  {
   "cell_type": "code",
   "execution_count": 7,
   "id": "ad0854d1",
   "metadata": {},
   "outputs": [
    {
     "data": {
      "text/plain": [
       "'15.png'"
      ]
     },
     "execution_count": 7,
     "metadata": {},
     "output_type": "execute_result"
    }
   ],
   "source": [
    "labelme['imagePath']"
   ]
  },
  {
   "cell_type": "code",
   "execution_count": 8,
   "id": "6f380033",
   "metadata": {},
   "outputs": [],
   "source": [
    "labelme['imageData']"
   ]
  },
  {
   "cell_type": "code",
   "execution_count": 9,
   "id": "3ff98448",
   "metadata": {},
   "outputs": [
    {
     "data": {
      "text/plain": [
       "1080"
      ]
     },
     "execution_count": 9,
     "metadata": {},
     "output_type": "execute_result"
    }
   ],
   "source": [
    "labelme['imageHeight']"
   ]
  },
  {
   "cell_type": "code",
   "execution_count": 10,
   "id": "afbc19f5",
   "metadata": {},
   "outputs": [
    {
     "data": {
      "text/plain": [
       "1440"
      ]
     },
     "execution_count": 10,
     "metadata": {},
     "output_type": "execute_result"
    }
   ],
   "source": [
    "labelme['imageWidth']"
   ]
  },
  {
   "cell_type": "code",
   "execution_count": 11,
   "id": "6212c98e",
   "metadata": {},
   "outputs": [
    {
     "data": {
      "text/plain": [
       "[{'label': 'leftpoint',\n",
       "  'points': [[680.0, 448.3333333333333]],\n",
       "  'group_id': None,\n",
       "  'description': '',\n",
       "  'shape_type': 'point',\n",
       "  'flags': {}},\n",
       " {'label': 'rightpoint',\n",
       "  'points': [[896.1111111111111, 442.77777777777777]],\n",
       "  'group_id': None,\n",
       "  'description': '',\n",
       "  'shape_type': 'point',\n",
       "  'flags': {}},\n",
       " {'label': 'highpoint',\n",
       "  'points': [[793.3333333333333, 385.55555555555554]],\n",
       "  'group_id': None,\n",
       "  'description': '',\n",
       "  'shape_type': 'point',\n",
       "  'flags': {}},\n",
       " {'label': 'lowpoint',\n",
       "  'points': [[794.4444444444445, 500.0]],\n",
       "  'group_id': None,\n",
       "  'description': '',\n",
       "  'shape_type': 'point',\n",
       "  'flags': {}},\n",
       " {'label': 'weldingpool',\n",
       "  'points': [[668.8888888888889, 345.0],\n",
       "   [913.3333333333333, 523.3333333333334]],\n",
       "  'group_id': None,\n",
       "  'description': '',\n",
       "  'shape_type': 'rectangle',\n",
       "  'flags': {}}]"
      ]
     },
     "execution_count": 11,
     "metadata": {},
     "output_type": "execute_result"
    }
   ],
   "source": [
    "labelme['shapes']"
   ]
  },
  {
   "cell_type": "code",
   "execution_count": 12,
   "id": "5172a069",
   "metadata": {},
   "outputs": [],
   "source": [
    "coco = {}"
   ]
  },
  {
   "cell_type": "code",
   "execution_count": 13,
   "id": "e62d576a",
   "metadata": {},
   "outputs": [],
   "source": [
    "coco['info'] = {}\n",
    "coco['info']['description'] = 'Labelme2coco keypoint format script '\n",
    "coco['info']['year'] = 2023\n",
    "coco['info']['date_created'] = '2023/12/12'"
   ]
  },
  {
   "cell_type": "code",
   "execution_count": 14,
   "id": "9dd893ad",
   "metadata": {},
   "outputs": [],
   "source": [
    "class_list= {\n",
    "    'supercategory': 'weldingpool',\n",
    "    'id': 1,\n",
    "    'name': 'weldingpool',\n",
    "    'keypoints': ['leftpoint', 'rightpoint', 'highpoint', 'lowpoint'], \n",
    "}"
   ]
  },
  {
   "cell_type": "code",
   "execution_count": 15,
   "id": "d7900bd2",
   "metadata": {},
   "outputs": [],
   "source": [
    "coco['categories'] = []\n",
    "coco['categories'].append(class_list)\n",
    "\n",
    "coco['images'] = []\n",
    "coco['annotations'] = []\n",
    "\n",
    "IMG_ID = 0\n",
    "ANN_ID = 0"
   ]
  },
  {
   "cell_type": "code",
   "execution_count": 16,
   "id": "3b15382c",
   "metadata": {},
   "outputs": [],
   "source": [
    "def process_single_json(labelme, image_id=1):\n",
    "    '''\n",
    "    输入labelme的json数据，输出coco格式的每个框的关键点标注信息\n",
    "    '''\n",
    "    \n",
    "    global ANN_ID\n",
    "    \n",
    "    coco_annotations = []\n",
    "    \n",
    "    for each_ann in labelme['shapes']: \n",
    "\n",
    "        if each_ann['shape_type'] == 'rectangle': \n",
    "\n",
    "           \n",
    "            bbox_dict = {}\n",
    "            bbox_dict['category_id'] = 1\n",
    "            bbox_dict['segmentation'] = []\n",
    "            \n",
    "            bbox_dict['iscrowd'] = 0\n",
    "            bbox_dict['segmentation'] = []\n",
    "            bbox_dict['image_id'] = image_id\n",
    "            bbox_dict['id'] = ANN_ID\n",
    "            # print(ANN_ID)\n",
    "            ANN_ID += 1\n",
    "\n",
    "            \n",
    "            bbox_left_top_x = min(int(each_ann['points'][0][0]), int(each_ann['points'][1][0]))\n",
    "            bbox_left_top_y = min(int(each_ann['points'][0][1]), int(each_ann['points'][1][1]))\n",
    "            bbox_right_bottom_x = max(int(each_ann['points'][0][0]), int(each_ann['points'][1][0]))\n",
    "            bbox_right_bottom_y = max(int(each_ann['points'][0][1]), int(each_ann['points'][1][1]))\n",
    "            bbox_w = bbox_right_bottom_x - bbox_left_top_x\n",
    "            bbox_h = bbox_right_bottom_y - bbox_left_top_y\n",
    "            bbox_dict['bbox'] = [bbox_left_top_x, bbox_left_top_y, bbox_w, bbox_h] # 左上角x、y、框的w、h\n",
    "            bbox_dict['area'] = bbox_w * bbox_h\n",
    "            \n",
    "            \n",
    "            for each_ann in labelme['shapes']: \n",
    "                if each_ann['shape_type'] == 'polygon': \n",
    "                    \n",
    "                    first_x = each_ann['points'][0][0]\n",
    "                    first_y = each_ann['points'][0][1]\n",
    "                    if (first_x>bbox_left_top_x) & (first_x<bbox_right_bottom_x) & (first_y<bbox_right_bottom_y) & (first_y>bbox_left_top_y): # 筛选出在该个体框中的关键点\n",
    "                        bbox_dict['segmentation'] = list(map(lambda x: list(map(lambda y: round(y, 2), x)), each_ann['points'])) # 坐标保留两位小数\n",
    "                        # bbox_dict['segmentation'] = each_ann['points']\n",
    "\n",
    "            \n",
    "            bbox_keypoints_dict = {}\n",
    "            for each_ann in labelme['shapes']: \n",
    "                \n",
    "                if each_ann['shape_type'] == 'point': \n",
    "                    \n",
    "                    x = int(each_ann['points'][0][0])\n",
    "                    y = int(each_ann['points'][0][1])\n",
    "                    label = each_ann['label']\n",
    "                    if (x>bbox_left_top_x) & (x<bbox_right_bottom_x) & (y<bbox_right_bottom_y) & (y>bbox_left_top_y): # 筛选出在该个体框中的关键点\n",
    "                        bbox_keypoints_dict[label] = [x, y]\n",
    "                        \n",
    "            bbox_dict['num_keypoints'] = len(bbox_keypoints_dict)\n",
    "            # print(bbox_keypoints_dict)\n",
    "\n",
    "            \n",
    "            bbox_dict['keypoints'] = []\n",
    "            for each_class in class_list['keypoints']:\n",
    "                if each_class in bbox_keypoints_dict:\n",
    "                    bbox_dict['keypoints'].append(bbox_keypoints_dict[each_class][0])\n",
    "                    bbox_dict['keypoints'].append(bbox_keypoints_dict[each_class][1])\n",
    "                    bbox_dict['keypoints'].append(2) \n",
    "                else: \n",
    "                    bbox_dict['keypoints'].append(0)\n",
    "                    bbox_dict['keypoints'].append(0)\n",
    "                    bbox_dict['keypoints'].append(0)\n",
    "                    \n",
    "            coco_annotations.append(bbox_dict)\n",
    "            \n",
    "    return coco_annotations"
   ]
  },
  {
   "cell_type": "code",
   "execution_count": 17,
   "id": "5075d526",
   "metadata": {},
   "outputs": [],
   "source": [
    "labelme_json_path = r'J:\\AI based welding detection in Gas metal arc welding\\weldingpool data\\15.json'\n",
    "\n",
    "with open(labelme_json_path, 'r', encoding='utf-8') as f:\n",
    "    labelme = json.load(f)"
   ]
  },
  {
   "cell_type": "code",
   "execution_count": 18,
   "id": "39dfb311",
   "metadata": {},
   "outputs": [
    {
     "data": {
      "text/plain": [
       "[{'category_id': 1,\n",
       "  'segmentation': [],\n",
       "  'iscrowd': 0,\n",
       "  'image_id': 1,\n",
       "  'id': 0,\n",
       "  'bbox': [668, 345, 245, 178],\n",
       "  'area': 43610,\n",
       "  'num_keypoints': 4,\n",
       "  'keypoints': [680, 448, 2, 896, 442, 2, 793, 385, 2, 794, 500, 2]}]"
      ]
     },
     "execution_count": 18,
     "metadata": {},
     "output_type": "execute_result"
    }
   ],
   "source": [
    "process_single_json(labelme)"
   ]
  },
  {
   "cell_type": "code",
   "execution_count": 19,
   "id": "7cee1b43",
   "metadata": {},
   "outputs": [],
   "source": [
    "IMG_ID = 0\n",
    "ANN_ID = 0"
   ]
  },
  {
   "cell_type": "code",
   "execution_count": 27,
   "id": "86be3ddb",
   "metadata": {},
   "outputs": [],
   "source": [
    "for labelme_json in os.listdir(): \n",
    "    \n",
    "    if labelme_json.split('.')[-1] == 'json':\n",
    "        \n",
    "        with open(labelme_json, 'r', encoding='utf-8') as f:\n",
    "            \n",
    "            labelme = json.load(f)\n",
    "            \n",
    "            \n",
    "            img_dict = {}\n",
    "            img_dict['file_name'] = labelme['imagePath']\n",
    "            img_dict['height'] = labelme['imageHeight']\n",
    "            img_dict['width'] = labelme['imageWidth']\n",
    "            img_dict['id'] = IMG_ID\n",
    "            coco['images'].append(img_dict)\n",
    "            \n",
    "           \n",
    "            coco_annotations = process_single_json(labelme, image_id=IMG_ID)\n",
    "            coco['annotations'] += coco_annotations\n",
    "            \n",
    "            IMG_ID += 1\n",
    "            \n",
    "            print(labelme_json, '已处理完毕')\n",
    "\n",
    "    else:\n",
    "        pass"
   ]
  },
  {
   "cell_type": "code",
   "execution_count": 21,
   "id": "2d886834",
   "metadata": {},
   "outputs": [
    {
     "name": "stdout",
     "output_type": "stream",
     "text": [
      "创建新目录 output_coco\n"
     ]
    }
   ],
   "source": [
    "if not os.path.exists('output_coco'):\n",
    "    os.mkdir('output_coco')\n",
    "    print('创建新目录 output_coco')"
   ]
  },
  {
   "cell_type": "code",
   "execution_count": 22,
   "id": "8ec7f58b",
   "metadata": {},
   "outputs": [],
   "source": [
    "coco_path = 'output_coco/coco_sample.json'"
   ]
  },
  {
   "cell_type": "code",
   "execution_count": 23,
   "id": "195ada50",
   "metadata": {},
   "outputs": [],
   "source": [
    "with open(coco_path, 'w') as f:\n",
    "    json.dump(coco, f, indent=2)"
   ]
  },
  {
   "cell_type": "code",
   "execution_count": 24,
   "id": "700621e8",
   "metadata": {},
   "outputs": [
    {
     "data": {
      "text/plain": [
       "{'info': {'description': 'Labelme2coco keypoint format script ',\n",
       "  'year': 2023,\n",
       "  'date_created': '2023/12/12'},\n",
       " 'categories': [{'supercategory': 'weldingpool',\n",
       "   'id': 1,\n",
       "   'name': 'weldingpool',\n",
       "   'keypoints': ['leftpoint', 'rightpoint', 'highpoint', 'lowpoint']}],\n",
       " 'images': [],\n",
       " 'annotations': []}"
      ]
     },
     "execution_count": 24,
     "metadata": {},
     "output_type": "execute_result"
    }
   ],
   "source": [
    "coco"
   ]
  },
  {
   "cell_type": "code",
   "execution_count": 25,
   "id": "eaeb42a9",
   "metadata": {},
   "outputs": [
    {
     "name": "stdout",
     "output_type": "stream",
     "text": [
      "Collecting pycocotools\n",
      "  Obtaining dependency information for pycocotools from https://files.pythonhosted.org/packages/24/b2/ef28a34cf6ca50b6b2f7ad81e5837ed45c252ffef22f5a704b94141ea842/pycocotools-2.0.7-cp311-cp311-win_amd64.whl.metadata\n",
      "  Downloading pycocotools-2.0.7-cp311-cp311-win_amd64.whl.metadata (1.1 kB)\n",
      "Requirement already satisfied: matplotlib>=2.1.0 in c:\\users\\bib-ya\\appdata\\local\\anaconda3\\lib\\site-packages (from pycocotools) (3.7.2)\n",
      "Requirement already satisfied: numpy in c:\\users\\bib-ya\\appdata\\local\\anaconda3\\lib\\site-packages (from pycocotools) (1.24.3)\n",
      "Requirement already satisfied: contourpy>=1.0.1 in c:\\users\\bib-ya\\appdata\\local\\anaconda3\\lib\\site-packages (from matplotlib>=2.1.0->pycocotools) (1.0.5)\n",
      "Requirement already satisfied: cycler>=0.10 in c:\\users\\bib-ya\\appdata\\local\\anaconda3\\lib\\site-packages (from matplotlib>=2.1.0->pycocotools) (0.11.0)\n",
      "Requirement already satisfied: fonttools>=4.22.0 in c:\\users\\bib-ya\\appdata\\local\\anaconda3\\lib\\site-packages (from matplotlib>=2.1.0->pycocotools) (4.25.0)\n",
      "Requirement already satisfied: kiwisolver>=1.0.1 in c:\\users\\bib-ya\\appdata\\local\\anaconda3\\lib\\site-packages (from matplotlib>=2.1.0->pycocotools) (1.4.4)\n",
      "Requirement already satisfied: packaging>=20.0 in c:\\users\\bib-ya\\appdata\\local\\anaconda3\\lib\\site-packages (from matplotlib>=2.1.0->pycocotools) (23.1)\n",
      "Requirement already satisfied: pillow>=6.2.0 in c:\\users\\bib-ya\\appdata\\local\\anaconda3\\lib\\site-packages (from matplotlib>=2.1.0->pycocotools) (9.4.0)\n",
      "Requirement already satisfied: pyparsing<3.1,>=2.3.1 in c:\\users\\bib-ya\\appdata\\local\\anaconda3\\lib\\site-packages (from matplotlib>=2.1.0->pycocotools) (3.0.9)\n",
      "Requirement already satisfied: python-dateutil>=2.7 in c:\\users\\bib-ya\\appdata\\local\\anaconda3\\lib\\site-packages (from matplotlib>=2.1.0->pycocotools) (2.8.2)\n",
      "Requirement already satisfied: six>=1.5 in c:\\users\\bib-ya\\appdata\\local\\anaconda3\\lib\\site-packages (from python-dateutil>=2.7->matplotlib>=2.1.0->pycocotools) (1.16.0)\n",
      "Downloading pycocotools-2.0.7-cp311-cp311-win_amd64.whl (85 kB)\n",
      "   ---------------------------------------- 0.0/85.8 kB ? eta -:--:--\n",
      "   ---- ----------------------------------- 10.2/85.8 kB ? eta -:--:--\n",
      "   ---- ----------------------------------- 10.2/85.8 kB ? eta -:--:--\n",
      "   -------------- ------------------------- 30.7/85.8 kB 262.6 kB/s eta 0:00:01\n",
      "   --------------------------------- ------ 71.7/85.8 kB 491.5 kB/s eta 0:00:01\n",
      "   ---------------------------------------- 85.8/85.8 kB 484.2 kB/s eta 0:00:00\n",
      "Installing collected packages: pycocotools\n",
      "Successfully installed pycocotools-2.0.7\n"
     ]
    }
   ],
   "source": [
    "!pip install pycocotools"
   ]
  },
  {
   "cell_type": "code",
   "execution_count": 26,
   "id": "9567c9f5",
   "metadata": {},
   "outputs": [
    {
     "name": "stdout",
     "output_type": "stream",
     "text": [
      "loading annotations into memory...\n",
      "Done (t=0.02s)\n",
      "creating index...\n",
      "index created!\n"
     ]
    }
   ],
   "source": [
    "from pycocotools.coco import COCO\n",
    "\n",
    "my_coco = COCO(coco_path)"
   ]
  },
  {
   "cell_type": "code",
   "execution_count": null,
   "id": "f20a0b36",
   "metadata": {},
   "outputs": [],
   "source": []
  }
 ],
 "metadata": {
  "kernelspec": {
   "display_name": "Python 3 (ipykernel)",
   "language": "python",
   "name": "python3"
  },
  "language_info": {
   "codemirror_mode": {
    "name": "ipython",
    "version": 3
   },
   "file_extension": ".py",
   "mimetype": "text/x-python",
   "name": "python",
   "nbconvert_exporter": "python",
   "pygments_lexer": "ipython3",
   "version": "3.11.5"
  }
 },
 "nbformat": 4,
 "nbformat_minor": 5
}
